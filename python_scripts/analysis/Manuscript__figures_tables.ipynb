{
 "cells": [
  {
   "cell_type": "markdown",
   "metadata": {},
   "source": [
    "# Publication figures \n",
    "This script calls all python scripts in the same order as appearing in the manuscript which were created using the bioinformatics pipeline."
   ]
  },
  {
   "cell_type": "markdown",
   "metadata": {},
   "source": [
    "## Table of contents\n",
    "* <a href=#DD_prep>0 Preparations</a>\n",
    "   * <a href=#importing>0.1 Importing packages</a>\n",
    "   * <a href=#functions>0.2 Create functions</a>\n",
    "   * <a href=#initparameters>0.3 Init Parameters</a>\n",
    "   * <a href=#Inf_stdata>0.4 Information about spatial data</a>\n",
    "* <a href=#read-data>1 Load data</a>\n",
    "* <a href=#MainFigures>2 Main Figures</a>\n",
    "* <a href=#SuppFigures>3 Supplemental Figures</a>\n",
    "* <a href=#SuppTables>4 Supplemental Tables</a>"
   ]
  },
  {
   "cell_type": "markdown",
   "metadata": {},
   "source": [
    "# 0. Preparations"
   ]
  },
  {
   "cell_type": "markdown",
   "metadata": {},
   "source": [
    "## 0.1 Importing packages"
   ]
  },
  {
   "cell_type": "code",
   "execution_count": 2,
   "metadata": {},
   "outputs": [],
   "source": [
    "import sys  \n",
    "sys.path.insert(0, '/Users/christina.hillig/PycharmProjects/ST_Immune_publication/Publication_analysis/python_scripts')"
   ]
  },
  {
   "cell_type": "code",
   "execution_count": 1,
   "metadata": {},
   "outputs": [
    {
     "ename": "ModuleNotFoundError",
     "evalue": "No module named 'python_scripts'",
     "output_type": "error",
     "traceback": [
      "\u001b[0;31m---------------------------------------------------------------------------\u001b[0m",
      "\u001b[0;31mModuleNotFoundError\u001b[0m                       Traceback (most recent call last)",
      "\u001b[0;32m<ipython-input-1-d672e84f1183>\u001b[0m in \u001b[0;36m<module>\u001b[0;34m\u001b[0m\n\u001b[1;32m      1\u001b[0m \u001b[0;31m# Import Main figures scripts\u001b[0m\u001b[0;34m\u001b[0m\u001b[0;34m\u001b[0m\u001b[0;34m\u001b[0m\u001b[0m\n\u001b[0;32m----> 2\u001b[0;31m \u001b[0;32mfrom\u001b[0m \u001b[0mpython_scripts\u001b[0m\u001b[0;34m.\u001b[0m\u001b[0manalysis\u001b[0m\u001b[0;34m.\u001b[0m\u001b[0mfigure_1\u001b[0m \u001b[0;32mimport\u001b[0m \u001b[0mUMAP_bulkRNAseq\u001b[0m\u001b[0;34m\u001b[0m\u001b[0;34m\u001b[0m\u001b[0m\n\u001b[0m\u001b[1;32m      3\u001b[0m \u001b[0;32mfrom\u001b[0m \u001b[0mpython_scripts\u001b[0m\u001b[0;34m.\u001b[0m\u001b[0manalysis\u001b[0m\u001b[0;34m.\u001b[0m\u001b[0mfigure_2\u001b[0m \u001b[0;32mimport\u001b[0m \u001b[0mFig2A__ST_sections\u001b[0m\u001b[0;34m,\u001b[0m \u001b[0mFig2B__cytokine_tissuelayer_expression\u001b[0m\u001b[0;34m,\u001b[0m \u001b[0mFig2C__SC_cytokine_expression\u001b[0m\u001b[0;34m,\u001b[0m \u001b[0mFig2DF__Bulk_cytokine_expression\u001b[0m\u001b[0;34m,\u001b[0m \u001b[0mFig2NQ__ST_cytokine_counts\u001b[0m\u001b[0;34m\u001b[0m\u001b[0;34m\u001b[0m\u001b[0m\n\u001b[1;32m      4\u001b[0m \u001b[0;32mfrom\u001b[0m \u001b[0mpython_scripts\u001b[0m\u001b[0;34m.\u001b[0m\u001b[0manalysis\u001b[0m\u001b[0;34m.\u001b[0m\u001b[0mfigure_3\u001b[0m \u001b[0;32mimport\u001b[0m \u001b[0mFig3A__ST_UMAP_diseases\u001b[0m\u001b[0;34m,\u001b[0m \u001b[0mFig3B__ST_UMAP_IL17A_tissuelayers\u001b[0m\u001b[0;34m,\u001b[0m \u001b[0mFig3CD__ST_Volcanoplot_cytokine\u001b[0m\u001b[0;34m\u001b[0m\u001b[0;34m\u001b[0m\u001b[0m\n\u001b[1;32m      5\u001b[0m \u001b[0;32mfrom\u001b[0m \u001b[0mpython_scripts\u001b[0m\u001b[0;34m.\u001b[0m\u001b[0manalysis\u001b[0m\u001b[0;34m.\u001b[0m\u001b[0mfigure_4\u001b[0m \u001b[0;32mimport\u001b[0m \u001b[0mFig4A__SC_UMAP_clusters\u001b[0m\u001b[0;34m,\u001b[0m \u001b[0mFig4B__SC_UMAP_IL17A\u001b[0m\u001b[0;34m,\u001b[0m \u001b[0mFig4C__SC_Volcano_plot\u001b[0m\u001b[0;34m\u001b[0m\u001b[0;34m\u001b[0m\u001b[0m\n",
      "\u001b[0;31mModuleNotFoundError\u001b[0m: No module named 'python_scripts'"
     ]
    }
   ],
   "source": [
    "# Import Main figures scripts\n",
    "from python_scripts.analysis.figure_1 import UMAP_bulkRNAseq\n",
    "from python_scripts.analysis.figure_2 import Fig2A__ST_sections, Fig2B__cytokine_tissuelayer_expression, Fig2C__SC_cytokine_expression, Fig2DF__Bulk_cytokine_expression, Fig2NQ__ST_cytokine_counts\n",
    "from python_scripts.analysis.figure_3 import Fig3A__ST_UMAP_diseases, Fig3B__ST_UMAP_IL17A_tissuelayers, Fig3CD__ST_Volcanoplot_cytokine\n",
    "from python_scripts.analysis.figure_4 import Fig4A__SC_UMAP_clusters, Fig4B__SC_UMAP_IL17A, Fig4C__SC_Volcano_plot\n",
    "from python_scripts.analysis.figure_5 import Fig5AC__ST_pseudobulk_aggregation_Correlation, Fig4FH__Weighted_Correlation\n",
    "# Creates Figure 5G-I\n",
    "from python_scripts.spatial_correlation import main as csdcc"
   ]
  },
  {
   "cell_type": "code",
   "execution_count": null,
   "metadata": {},
   "outputs": [],
   "source": [
    "# Import Supplemental figures scripts\n",
    "from python_scripts.analysis.supplfigure_1 import SuppFig1DE__cytokine_counts_skinlayers, \\\n",
    "    SuppFig1C__Lesion_NonLesion_Mean_expression_cytokines_others\n",
    "from python_scripts.analysis.supplfigure_3 import SuppFig2ABC__ST_UMAP\n",
    "from python_scripts.analysis.supplfigure_4 import SupplFig3AF__spot_celltypes\n",
    "from python_scripts.analysis.supplfigure_5 import SuppFig4AC__ST_Volcano_Boxplot\n",
    "from python_scripts.analysis.supplfigure_6 import SuppFig5A__SC_UMAP_IFNG, SuppFig5B__SC_Volcano_IFNG\n",
    "from python_scripts.analysis.supplfigure_7 import SuppFig7AC__ST_Common_genes_cytokinepositive_condition, \\\n",
    "    SuppFig7H__cytokines_vs_responders\n",
    "from python_scripts.analysis.supplfigure_8 import SuppFig8A__ST_pseudobulk_Correlation_permutedresponders, \\\n",
    "    SuppFig8AC__refined_responds"
   ]
  },
  {
   "cell_type": "code",
   "execution_count": null,
   "metadata": {},
   "outputs": [],
   "source": [
    "# Import supplemental table script\n",
    "from python_scripts.analysis.suppltable import SuppTab2__overview_counts"
   ]
  },
  {
   "cell_type": "code",
   "execution_count": null,
   "metadata": {},
   "outputs": [],
   "source": [
    "# Import utils\n",
    "from python_scripts.utils import gene_lists"
   ]
  },
  {
   "cell_type": "code",
   "execution_count": null,
   "metadata": {},
   "outputs": [],
   "source": [
    "# Import Modules\n",
    "import os\n",
    "from datetime import date\n",
    "import scanpy as sc\n",
    "import numpy as np\n",
    "import pandas as pd"
   ]
  },
  {
   "cell_type": "markdown",
   "metadata": {},
   "source": [
    "## 0.2 Create functions"
   ]
  },
  {
   "cell_type": "code",
   "execution_count": null,
   "metadata": {},
   "outputs": [],
   "source": [
    "def get_deg_files(input_dir, cytokine):\n",
    "    design_function_spatial = 'cdr_project_patient_annotation_cyto'\n",
    "    design_function_singlecell = 'cdr_annotation_cyto'\n",
    "    dataset = \"Whole_T_cell_matrix\"\n",
    "\n",
    "    # load df's using pandas\n",
    "    # Spatial DEGs paths\n",
    "    comparisons = \"_\".join([cytokine, 'vs_Others'])\n",
    "    st_path = os.path.join(\n",
    "        input_dir, \"dge_analysis\",\n",
    "        \"\".join(['2022-04-08_spatial_', design_function_spatial, os.path.sep, 'spatial',\n",
    "                 os.path.sep, dataset, \"__\", design_function_spatial, os.path.sep, cytokine, os.path.sep,\n",
    "                 comparisons]))\n",
    "    st_file = os.path.join(\n",
    "        input_dir, \"dge_analysis\", st_path,\n",
    "        \"\".join([dataset, \"_\", comparisons, \"_glmGamPoi_DGE_all_genes.csv\"]))\n",
    "    \n",
    "    # Single cell DEGs paths\n",
    "    sc_path = os.path.join(\n",
    "        input_dir, \"dge_analysis\", '2021-02-01_single_cell__', design_function_singlecell, 'single_cell',\n",
    "        \"\".join([dataset, \"__\", design_function_singlecell]), cytokine, comparisons)\n",
    "    sc_file = os.path.join(\n",
    "        input_dir, \"dge_analysis\", sc_path,\n",
    "        \"\".join([\"single_cell_\", comparisons, \"_glmGamPoi_DGE_all_genes.csv\"]))\n",
    "\n",
    "    return st_path, st_file, sc_path, sc_file"
   ]
  },
  {
   "cell_type": "code",
   "execution_count": null,
   "metadata": {},
   "outputs": [],
   "source": [
    "def load_spatial_data(adata_folder):\n",
    "    date_st_unpp = '2022-04-08' \n",
    "    date_st_pp = '2022-04-08'  \n",
    "    \n",
    "    # load unpreprocessed data\n",
    "    unpp_adata = sc.read(os.path.join(\n",
    "        st_adata_folder, date_st_unpp, \"Spatial Transcriptomics_unpp_cleaned_LPADPso.h5\"))\n",
    "\n",
    "    # load preprocessed data\n",
    "    pp_adata = sc.read(os.path.join(st_adata_folder, date_st_pp, 'st_QC_normed_BC_project_PsoADLP.h5'))\n",
    "    pp_adata = check_tissuelayer_annotation(st_adata=pp_st_adata)\n",
    "    \n",
    "    return unpp_adata, pp_adata\n",
    "\n",
    "    \n",
    "def load_singlecell_data(adata_folder):\n",
    "    sc_adata_folder = '/Users/christina.hillig/Documents/Projects/annData_objects'\n",
    "    unpp_adata = sc.read(os.path.join(sc_adata_folder, '2020-11-30', 'sc_adata_unpp.h5'))\n",
    "    pp_adata = sc.read(os.path.join(sc_adata_folder, '2020-12-04_SC_Data_QC_clustered.h5'))\n",
    "    \n",
    "    return unpp_adata, pp_adata\n",
    "\n",
    "\n",
    "    \n",
    "def load_bulk_data(data_folder):\n",
    "    # --> Bulk RNAseq data\n",
    "    input_rnaseq = os.path.join(input_folder, \"bulk_RNAseq\")\n",
    "    # - Read bulk-RNAseq count matrix\n",
    "    data = pd.read_csv(os.path.join(input_rnaseq, \"bulkRNA_countMat.txt\"), sep='\\t')\n",
    "    # - Read in metaData\n",
    "    metadata = pd.read_excel(os.path.join(input_rnaseq, \"bulkRNA_metaData.xlsx\"))\n",
    "    \n",
    "    return data, metadata"
   ]
  },
  {
   "cell_type": "markdown",
   "metadata": {},
   "source": [
    "## 0.3 Init Parameters\n"
   ]
  },
  {
   "cell_type": "code",
   "execution_count": null,
   "metadata": {},
   "outputs": [],
   "source": [
    "# Save directory\n",
    "today = date.today()\n",
    "project_folder = os.path.join(\"..\", \"..\")\n",
    "save_folder = os.path.join(project_folder, \"output\")\n",
    "os.makedirs(save_folder, exist_ok=True)\n",
    "\n",
    "# Input directory\n",
    "input_path = os.path.join(project_folder, \"input\")\n",
    "\n",
    "# Data\n",
    "# --> Spatial Transcriptomics data\n",
    "st_adata_folder = os.path.join(project_folder, \"adata_storage\")\n",
    "# --> Single cell RNAseq data\n",
    "sc_adata_folder = '/Users/christina.hillig/Documents/Projects/annData_objects'\n",
    "unpp_sc_adata = sc.read(os.path.join(sc_adata_folder, '2020-11-30', 'sc_adata_unpp.h5'))\n",
    "pp_sc_adata = sc.read(os.path.join(sc_adata_folder, '2020-12-04_SC_Data_QC_clustered.h5'))\n",
    "# --> Bulk RNAseq data\n",
    "bulk_data_folder = input_folder"
   ]
  },
  {
   "cell_type": "code",
   "execution_count": null,
   "metadata": {},
   "outputs": [],
   "source": [
    "# Files\n",
    "# DEGs\n",
    "st_path_il17a, st_file_il17a, sc_path_il17a, sc_file_il17a = get_deg_files(input_dir=input_folder, cytokine='IL17A')\n",
    "st_path_ifng, st_file_ifng, sc_path_ifng, sc_file_ifng = get_deg_files(input_dir=input_folder, cytokine='IFNG')\n",
    "input_st_dgeanalysis = os.path.join(\n",
    "    input_folder, 'dge_analysis', '2022-04-08_spatial__cdr_project_patient_annotation_cyto')\n",
    "\n",
    "# Spatial Correlation\n",
    "radius = list(np.arange(0, 5, 1))\n",
    "corr_method = 'spearman'\n",
    "t_cell_cytocines, cyto_resps_list, cytokine_responders = gene_lists.get_publication_cyto_resps()"
   ]
  },
  {
   "cell_type": "markdown",
   "metadata": {},
   "source": [
    "## Information about the spatial data\n",
    "- sample: technical sample\n",
    "- project: from sequencing batch the samples originate\n",
    "- capture area: a capture area on the Visium object slide\n",
    "- object slide: Visium object slide\n",
    "- specimen: a tissue slice\n",
    "- SAMPLE: clinical patient IDs\n",
    "- patients: patient IDs 1-40"
   ]
  },
  {
   "cell_type": "markdown",
   "metadata": {},
   "source": [
    "<br><br><br>"
   ]
  },
  {
   "cell_type": "markdown",
   "metadata": {},
   "source": [
    "# 1. Load data"
   ]
  },
  {
   "cell_type": "code",
   "execution_count": null,
   "metadata": {},
   "outputs": [],
   "source": [
    "# Spatial \n",
    "unpp_st_adata, pp_st_adata = load_spatial_data(adata_folder=st_adata_folder)"
   ]
  },
  {
   "cell_type": "code",
   "execution_count": null,
   "metadata": {},
   "outputs": [],
   "source": [
    "# Single cell\n",
    "unpp_sc_adata, pp_sc_adata = load_singlecell_data(adata_folder=sc_adata_folder)"
   ]
  },
  {
   "cell_type": "code",
   "execution_count": null,
   "metadata": {},
   "outputs": [],
   "source": [
    "# Bulk \n",
    "bulk_data, meta_data = load_bulk_data(data_folder=bulk_data_folder)"
   ]
  },
  {
   "cell_type": "markdown",
   "metadata": {},
   "source": [
    "<br><br><br>"
   ]
  },
  {
   "cell_type": "markdown",
   "metadata": {},
   "source": [
    "# 2. Main Figures"
   ]
  },
  {
   "cell_type": "markdown",
   "metadata": {},
   "source": [
    "## 2.1 Figure 1"
   ]
  },
  {
   "cell_type": "code",
   "execution_count": null,
   "metadata": {},
   "outputs": [],
   "source": [
    "save_folder_fig1 = os.path.join(save_folder, 'Fig1', str(date.today()))\n",
    "os.makedirs(save_folder_fig1, exist_ok=True)\n",
    "\n",
    "UMAP_bulkRNAseq.main(save_folder=save_folder_fig1, bulk_rnaseq=bulk_data, metadata=meta_data)"
   ]
  },
  {
   "cell_type": "markdown",
   "metadata": {},
   "source": [
    "## 2.2 Figure 2"
   ]
  },
  {
   "cell_type": "code",
   "execution_count": null,
   "metadata": {},
   "outputs": [],
   "source": [
    "save_folder_fig2 = os.path.join(save_folder, 'Fig2', str(date.today()))\n",
    "os.makedirs(save_folder_fig2, exist_ok=True)\n",
    "    \n",
    "Fig2A__ST_sections.main(save_folder=save_folder_fig2, adata=unpp_st_adata)\n",
    "Fig2B__cytokine_tissuelayer_expression.main(save_folder_fig2=save_folder, adata=unpp_st_adata)\n",
    "Fig2C__SC_cytokine_expression.main(save_folder=save_folder_fig2, adata=unpp_sc_adata)\n",
    "Fig2DF__Bulk_cytokine_expression.main(save_folder=save_folder_fig2, bulk_rnaseq=bulk_data, metadata=meta_data)\n",
    "# Fig2N-P: Cytokine counts of IFNG, IL17A, IL13 resolved by disease\n",
    "Fig2NQ__ST_cytokine_counts.get_per_diagnosis_cytokine_counts(unpp_st_adata, save_folder_fig2, biopsy_type='LESIONAL')\n",
    "Fig2NQ__ST_cytokine_counts.get_per_diagnosis_cytokine_counts(unpp_st_adata, save_folder_fig2, biopsy_type='NON LESIONAL')\n",
    "# Fig2Q: Total number of cytokine counts of IFNG, IL17A, IL13 resolved by disease\n",
    "Fig2NQ__ST_cytokine_counts.get_cytokinecounts_per_diagnosis(unpp_st_adata, save_folder_fig2, biopsy_type='LESIONAL')\n",
    "Fig2NQ__ST_cytokine_counts.get_cytokinecounts_per_diagnosis(unpp_st_adata, save_folder_fig2, biopsy_type='NON LESIONAL')"
   ]
  },
  {
   "cell_type": "markdown",
   "metadata": {},
   "source": [
    "## 2.3 Figure 3"
   ]
  },
  {
   "cell_type": "code",
   "execution_count": null,
   "metadata": {},
   "outputs": [],
   "source": [
    "save_folder_fig3 = os.path.join(save_folder, 'Fig3', str(date.today()))\n",
    "os.makedirs(save_folder_fig3, exist_ok=True)\n",
    "\n",
    "Fig3A__ST_UMAP_diseases.main(save_folder=save_folder_fig3, spatial_adata=pp_st_adata)\n",
    "Fig3B__ST_UMAP_IL17A_tissuelayers.main(save_folder=save_folder_fig3, spatial_adata=pp_st_adata)\n",
    "# Figure 3CD: Plots Volcano plot (C) and Violinplots (D)\n",
    "# df_keys contains column names of DEGs dataframe. \n",
    "# First string should be the name of the Log2FC column, \n",
    "# Second of either p-value or p-adjusted value,\n",
    "# Third should be the name of the HNGO gene names\n",
    "Fig3CD__ST_Volcanoplot_cytokine.main(\n",
    "    adata=pp_st_adata, save_folder=save_folder_fig3, df_keys=['log2fc', 'padj', 'gene_symbol'],\n",
    "    log=False, dge_results_folder=input_st_dgeanalysis)"
   ]
  },
  {
   "cell_type": "markdown",
   "metadata": {},
   "source": [
    "## 2.4 Figure 4"
   ]
  },
  {
   "cell_type": "code",
   "execution_count": null,
   "metadata": {},
   "outputs": [],
   "source": [
    "save_folder_fig4 = os.path.join(save_folder, 'Fig4', str(date.today()))\n",
    "os.makedirs(save_folder_fig4, exist_ok=True)\n",
    "\n",
    "Fig4A__SC_UMAP_clusters.main(save_folder=save_folder, pp_adata=pp_sc_adata, cluster_algorithm='leiden')\n",
    "Fig4B__SC_UMAP_IL17A.main(save_folder=save_folder, adata=pp_sc_adata)\n",
    "# Figure 4C\n",
    "# df_keys contains column names of DEGs dataframe. \n",
    "# First string should be the name of the Log2FC column, \n",
    "# Second of either p-value or p-adjusted value,\n",
    "# Third should be the name of the HNGO gene names\n",
    "Fig4C__SC_Volcano_plot.main(\n",
    "    dataset_type='SC', save_folder=save_folder_fig4, df_keys=['log2fc', 'padj', 'gene_symbol'],\n",
    "    log=False, dge_results_folder=sc_path_il17a)"
   ]
  },
  {
   "cell_type": "markdown",
   "metadata": {},
   "source": [
    "## 2.5 Figure 5"
   ]
  },
  {
   "cell_type": "code",
   "execution_count": null,
   "metadata": {},
   "outputs": [],
   "source": [
    "save_folder = '/Volumes/CH__data/ST_immune_publication/Revision/Fig5'\n",
    "save_folder_fig5ac = os.path.join(save_folder, 'Bulk_Weighted_Spearman', 'Unweighted_fit', str(date.today()))\n",
    "os.makedirs(save_folder_fig5ac, exist_ok=True)\n",
    "# Run Weighted correlation by cytokine+ spots in epidermis for pseudo-bulk approach\n",
    "fig5__dict_weighted_transcripts_corr, df_bulk = Fig5AC__ST_pseudobulk_aggregation_Correlation.main(\n",
    "        save_folder=save_folder_fig5ac, adata=unpp_st_adata, corr_method=corr_method)\n",
    "\n",
    "# Create figure 5D-G - if get_plots is set to True, otherwise it will only create the plots for 5E-G\n",
    "save_folder_fig5eg = os.path.join(save_folder, 'Weighted_Spearman_unppadata', 'Unweighted_fit', str(date.today()))\n",
    "os.makedirs(save_folder_fig5eg, exist_ok=True)\n",
    "counts_dict, df_stats_responders_in_vs_outlesion_sdc, df_stats_cytokines_responders_in_sdc = csdcc.main(\n",
    "    save_folder=save_folder_fig5eg, adata=unpp_st_adata, corr_method=corr_method, get_plots=False,\n",
    "    find_responders=False, radius=radius,\n",
    "    cond_genes=t_cell_cytocines, genes_resps=cytokine_responders)"
   ]
  },
  {
   "cell_type": "markdown",
   "metadata": {},
   "source": [
    "<br><br><br>"
   ]
  },
  {
   "cell_type": "markdown",
   "metadata": {},
   "source": [
    "# 3. Supplemental Figures"
   ]
  },
  {
   "cell_type": "markdown",
   "metadata": {},
   "source": [
    "## Figure S1"
   ]
  },
  {
   "cell_type": "code",
   "execution_count": null,
   "metadata": {},
   "outputs": [],
   "source": [
    "save_folder_sfig1 = os.path.join(save_folder, 'SFig1')\n",
    "os.makedirs(save_folder_sfig1, exist_ok=True)\n",
    "\n",
    "# Creates also supplemental figure 1A\n",
    "Fig2B__cytokine_tissuelayer_expression.main(save_folder_fig2=save_folder_sfig1, adata=unpp_st_adata)\n",
    "SuppFig1DE__cytokine_counts_skinlayers.main(save_folder=save_folder_sfig1, adata=unpp_st_adata)\n",
    "df_stats_mean_cytokines_others_l_vs_nl = SuppFig1C__Lesion_NonLesion_Mean_expression_cytokines_others.main(\n",
    "    save_folder=save_folder_sfig1, pp_st_adata=pp_st_adata)"
   ]
  },
  {
   "cell_type": "markdown",
   "metadata": {},
   "source": [
    "## Figure S3"
   ]
  },
  {
   "cell_type": "code",
   "execution_count": null,
   "metadata": {},
   "outputs": [],
   "source": [
    "\"\"\" SFig 3 \"\"\"\n",
    "save_folder_sfig3 = os.path.join(save_folder, 'SFig3')\n",
    "os.makedirs(save_folder_sfig3, exist_ok=True)\n",
    "\n",
    "SuppFig2ABC__ST_UMAP.main(\n",
    "    save_folder=save_folder_sfig3, spatial_adata=pp_st_adata, spatial_cluster_label='tissue_layer')"
   ]
  },
  {
   "cell_type": "markdown",
   "metadata": {},
   "source": [
    "## Figure S4\n",
    "Deconvolution of spots using _Tangram_ and a public single cell dataset as reference. <br>\n",
    "Please first run the jupyter-notebooks to deconvolute the spots and then run this function."
   ]
  },
  {
   "cell_type": "code",
   "execution_count": null,
   "metadata": {},
   "outputs": [],
   "source": [
    "\"\"\" SFig 4 \"\"\"  \n",
    "save_folder_sfig4 = os.path.join(save_folder, 'SFig4')\n",
    "os.makedirs(save_folder_sfig4, exist_ok=True)\n",
    "\n",
    "# Call jupyternotebooks before running this line\n",
    "SupplFig3AF__spot_celltypes.main(save_folder=save_folder_sfig4)"
   ]
  },
  {
   "cell_type": "markdown",
   "metadata": {},
   "source": [
    "## Figure S5"
   ]
  },
  {
   "cell_type": "code",
   "execution_count": null,
   "metadata": {},
   "outputs": [],
   "source": [
    "save_folder_sfig5 = os.path.join(save_folder, 'SFig5')\n",
    "os.makedirs(save_folder_sfig5, exist_ok=True)\n",
    "\n",
    "SuppFig4AC__ST_Volcano_Boxplot.main(\n",
    "    adata=pp_st_adata, save_folder=save_folder_sfig5, df_keys=['log2fc', 'padj', 'gene_symbol'],\n",
    "    log=False, dge_results_folder=st_path_ifng)"
   ]
  },
  {
   "cell_type": "markdown",
   "metadata": {},
   "source": [
    "## Figure S6"
   ]
  },
  {
   "cell_type": "code",
   "execution_count": null,
   "metadata": {},
   "outputs": [],
   "source": [
    "save_folder_sfig6 = os.path.join(save_folder, 'SFig6')\n",
    "os.makedirs(save_folder_sfig6, exist_ok=True)\n",
    "\n",
    "SuppFig5A__SC_UMAP_IFNG.main(save_folder=save_folder_sfig6, adata=pp_sc_adata)\n",
    "SuppFig5B__SC_Volcano_IFNG.main(\n",
    "    dataset_type='SC', save_folder=save_folder_sfig6, df_keys=['log2fc', 'padj', 'gene_symbol'],\n",
    "    log=False, dge_results_folder=sc_path_ifng)"
   ]
  },
  {
   "cell_type": "markdown",
   "metadata": {},
   "source": [
    "## Figure S7"
   ]
  },
  {
   "cell_type": "code",
   "execution_count": null,
   "metadata": {},
   "outputs": [],
   "source": [
    "save_folder_sfig7 = os.path.join(save_folder, 'SFig7')\n",
    "os.makedirs(save_folder_sfig7, exist_ok=True)\n",
    "\n",
    "SuppFig7AC__ST_Common_genes_cytokinepositive_condition.main(\n",
    "    input_path=input_st_dgeanalysis, save_folder=save_folder_sfig7)\n",
    "df_stats_lesion_mean_persample_perspecimen_cytokines_responders = SuppFig7H__cytokines_vs_responders.main(\n",
    "    save_folder=save_folder_sfig7, pp_st_adata=pp_st_adata)"
   ]
  },
  {
   "cell_type": "markdown",
   "metadata": {},
   "source": [
    "## Figure S8"
   ]
  },
  {
   "cell_type": "code",
   "execution_count": null,
   "metadata": {},
   "outputs": [],
   "source": [
    "save_folder_sfig8 = os.path.join(save_folder, 'Figure_S8', str(date.today()))\n",
    "os.makedirs(save_folder_sfig8, exist_ok=True)\n",
    "\n",
    "# 1. Run with preprocessed (QC, normed, bc) data density clustering\n",
    "_, _, _ = csdcc.main(save_folder=save_folder_sfig8, adata=pp_st_adata, corr_method=corr_method, get_plots=False,\n",
    "                     find_responders=True, radius=list(np.arange(0, 5, 1)), cond_genes=t_cell_cytocines,\n",
    "                     genes_resps=cytokine_responders)\n",
    "# 2. Identify DEGs (python) and create Volcano plots (R script)\n",
    "# 3. Identify new responder genes using DEGs from radii 1-5 and rerun density clustering\n",
    "SuppFig8AC__refined_responds.main(unpp_st_adata=unpp_st_adata)"
   ]
  },
  {
   "cell_type": "markdown",
   "metadata": {},
   "source": [
    "<br><br><br>"
   ]
  },
  {
   "cell_type": "markdown",
   "metadata": {},
   "source": [
    "# 4. Supplemental Tables"
   ]
  },
  {
   "cell_type": "code",
   "execution_count": null,
   "metadata": {},
   "outputs": [],
   "source": [
    "# Supplemental Table 2\n",
    "SuppTab2__overview_counts.create_supptable_1(unpp_st_adata=unpp_st_adata, save_folder=save_folder)"
   ]
  },
  {
   "cell_type": "code",
   "execution_count": null,
   "metadata": {},
   "outputs": [],
   "source": [
    "# Supplemental Table only for verification of numbers in manuscript\n",
    "writer = pd.ExcelWriter(os.path.join(save_folder, 'Supplemental_Table.xlsx'), engine='xlsxwriter')\n",
    "df_stats_responders_in_vs_outlesion_sdc.to_excel(writer, sheet_name='Abstract')\n",
    "df_stats_mean_cytokines_others_l_vs_nl.to_excel(writer, sheet_name='FigS1C')\n",
    "df_stats_lesion_mean_persample_perspecimen_cytokines_responders.to_excel(writer, sheet_name='FigS7')\n",
    "writer.save()\n",
    "writer.close()"
   ]
  }
 ],
 "metadata": {
  "kernelspec": {
   "display_name": "py37_sc_rpy2_diffxpy",
   "language": "python",
   "name": "py37_sc_rpy2_diffxpy"
  },
  "language_info": {
   "codemirror_mode": {
    "name": "ipython",
    "version": 3
   },
   "file_extension": ".py",
   "mimetype": "text/x-python",
   "name": "python",
   "nbconvert_exporter": "python",
   "pygments_lexer": "ipython3",
   "version": "3.7.4"
  }
 },
 "nbformat": 4,
 "nbformat_minor": 4
}
