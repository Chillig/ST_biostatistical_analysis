{
 "cells": [
  {
   "cell_type": "markdown",
   "id": "d994f32b-b018-4115-aa8d-b1e416afc12f",
   "metadata": {},
   "source": [
    "# Spatial Density Clustering Analysis"
   ]
  },
  {
   "cell_type": "markdown",
   "id": "ef4b3189-cb5f-449e-9211-722151c9225a",
   "metadata": {},
   "source": [
    "1. Import all packages and scripts needed to perform the analysis."
   ]
  },
  {
   "cell_type": "code",
   "execution_count": 1,
   "id": "c95fe261-6af7-4c43-8ba4-74732f5c99d8",
   "metadata": {
    "tags": []
   },
   "outputs": [],
   "source": [
    "import os\n",
    "import numpy as np\n",
    "import pandas as pd\n",
    "from datetime import date\n",
    "import scanpy as sc\n",
    "\n",
    "# import python scripts\n",
    "import gene_lists\n",
    "import corr_statistics\n",
    "import evaluations\n",
    "import plot_spatial_correlation\n",
    "# import classes to run clustering algorithm\n",
    "import modul_density_clustering"
   ]
  },
  {
   "cell_type": "markdown",
   "id": "7ec629e8-de2e-4afe-83e0-df1063e1e2f8",
   "metadata": {},
   "source": [
    "2. Manually set parameters for the perform the analysis"
   ]
  },
  {
   "cell_type": "code",
   "execution_count": 2,
   "id": "2a7d7478-7eb5-4647-8606-c76280b85c85",
   "metadata": {},
   "outputs": [],
   "source": [
    "# Data-associated parameters\n",
    "diseases = ['Pso', 'AD', 'LP']  # Diseases to include\n",
    "biopsy_type = ['LESIONAL', 'NON LESIONAL'] # Biopsy_types to include\n",
    "tissue_layers = ['upper EPIDERMIS', 'middle EPIDERMIS', 'basal EPIDERMIS']  # Skin layers to include in the analysis\n",
    "\n",
    "# Correlation analysis parameters\n",
    "radii = list(np.arange(0, 10))  # Set clustering radius\n",
    "corr_method = 'spearman'  # Correlation coefficient: spearman or pearson\n",
    "\n",
    "# Geneset parameters\n",
    "# Which response_types should to be tested (Th1: 'IFNG', Th2: 'IL13', Th3:'IL17'); \n",
    "# can be None if response type is not needed, please check functions if they require one\n",
    "response_type = 'IL17' \n",
    "# Get genes of interest and their potential close vicinity genes\n",
    "conditional_genes, conditionalgenes_responders = gene_lists.get_publication_spatial_transcriptomics_cyto_resps(\n",
    "    respone_type=response_type)\n",
    "\n",
    "# Path-related parameters\n",
    "task = 'Cytokines_vs_Responders' # Name of task or project\n",
    "# Data directory when using docker\n",
    "path_to_data = os.environ.get(\"DATAPATH\", \"/data\")\n",
    "# Output directory when using docker\n",
    "path_to_output = os.getcwd()"
   ]
  },
  {
   "cell_type": "markdown",
   "id": "ec1fbbc4-aee6-43d2-a7f7-b2eed89eeefa",
   "metadata": {},
   "source": [
    "3. Create output directory"
   ]
  },
  {
   "cell_type": "code",
   "execution_count": 3,
   "id": "dfd3e248-8689-41fb-b794-fba8fbf1d1ea",
   "metadata": {},
   "outputs": [],
   "source": [
    "save_folder = os.path.join(path_to_output, \"results\", task, str(date.today()))\n",
    "os.makedirs(save_folder, exist_ok=True)"
   ]
  },
  {
   "cell_type": "markdown",
   "id": "aa526957-69ec-4325-a165-e1f79c694774",
   "metadata": {},
   "source": [
    "4. Load data"
   ]
  },
  {
   "cell_type": "code",
   "execution_count": 4,
   "id": "cb9f6963-cd04-4589-954f-3004d0fcbfaf",
   "metadata": {},
   "outputs": [
    {
     "name": "stderr",
     "output_type": "stream",
     "text": [
      "/opt/conda/envs/analysis_env/lib/python3.8/site-packages/anndata/_core/anndata.py:1838: UserWarning: Observation names are not unique. To make them unique, call `.obs_names_make_unique`.\n",
      "  utils.warn_names_duplicates(\"obs\")\n"
     ]
    }
   ],
   "source": [
    "unpp_st_adata = sc.read(\n",
    "    os.path.join(path_to_data, \"Spatial Transcriptomics_unpp_cleaned_LPADPso_reduced.h5\"))\n",
    "    "
   ]
  },
  {
   "cell_type": "markdown",
   "id": "10689d29-7cba-47a1-be36-bad1dd77b1b5",
   "metadata": {},
   "source": [
    "5. Prepare data "
   ]
  },
  {
   "cell_type": "code",
   "execution_count": 5,
   "id": "c5e7b822-0e85-4420-ab15-51aef0dd56b7",
   "metadata": {},
   "outputs": [],
   "source": [
    "# Subset to specific disease(s)\n",
    "unpp_st_adata = unpp_st_adata[unpp_st_adata.obs['DISEASE'].isin(diseases)]\n",
    "# use lesion and  samples\n",
    "unpp_st_adata = unpp_st_adata[unpp_st_adata.obs['biopsy_type'].isin(biopsy_type)]"
   ]
  },
  {
   "cell_type": "markdown",
   "id": "6429fbd1-9135-480d-9062-d70fb5c8b9d8",
   "metadata": {},
   "source": [
    "6. Run analysis"
   ]
  },
  {
   "cell_type": "code",
   "execution_count": null,
   "id": "448e8a27-6e99-4086-85ad-8665a6c50b6a",
   "metadata": {},
   "outputs": [
    {
     "name": "stdout",
     "output_type": "stream",
     "text": [
      "========= Initiate Object radius = 0 =========\n"
     ]
    },
    {
     "name": "stderr",
     "output_type": "stream",
     "text": [
      "/app/spatial_correlation/utils.py:25: ImplicitModificationWarning: Trying to modify attribute `.obs` of view, initializing view as actual.\n",
      "  adata.obs[\"tissue_layer\"] = adata.obs[\"tissue_layer\"].astype(str)\n"
     ]
    }
   ],
   "source": [
    "counts_dict = dict()\n",
    "dict_corr_genes = {}\n",
    "\n",
    "for radius in radii:\n",
    "    save_folder_tmp = os.path.join(save_folder, str(radius))\n",
    "    os.makedirs(save_folder_tmp, exist_ok=True)\n",
    "\n",
    "    print('========= Initiate Object radius = {} ========='.format(radius))\n",
    "    clusterer = modul_density_clustering.SpatialDensityCluster(\n",
    "        adata=unpp_st_adata, tissue_types=tissue_layers, radius=radius, corr_method=corr_method,\n",
    "        conditional_genes=conditional_genes,\n",
    "        conditionalgenes_responders=conditionalgenes_responders)\n",
    "\n",
    "    print('========= Run ST Density Clustering radius = {} =========\\n'.format(radius))\n",
    "    df_counts, df_excluded_spot_counts, df_counts_responders, df_included_spot_counts = (\n",
    "        clusterer.get_cluster_counts())\n",
    "\n",
    "    counts_dict[radius] = df_counts\n",
    "    dict_corr_genes[radius] = {}\n",
    "\n",
    "    print('========= Calculate correlation and p-value for radius = {} =========\\n'.format(radius))\n",
    "    for gene in conditional_genes:\n",
    "        dict_corr_genes[radius][gene] = {'pearson': [], 'spearman': []}\n",
    "\n",
    "        proximity_genes_name = \"{}_{}\".format(gene, 'responder')\n",
    "        weight_name = \"{}_{}\".format('weighted', gene)\n",
    "\n",
    "        # Read out counts\n",
    "        temp_df = df_counts[[gene, proximity_genes_name, weight_name]].copy()\n",
    "        # Drop NaN values\n",
    "        df_wo_nan = temp_df.dropna()\n",
    "\n",
    "        dict_corr_genes[radius][gene] = corr_statistics.get_correlation_stats(\n",
    "            df=df_wo_nan, proximity_genes_name=proximity_genes_name, gene=gene, weight_name=weight_name,\n",
    "            dict_corr=dict_corr_genes[radius][gene])\n",
    "\n",
    "    print('========= Plot correlation radius = {} =========\\n'.format(radius))\n",
    "    # Weighted by transcripts\n",
    "    plot_spatial_correlation.plot__stwc_tissuelayers(\n",
    "        df_counts=df_counts, cytokine_responders=conditionalgenes_responders,\n",
    "        save_folder=save_folder_tmp, distance=radius, corr_method=corr_method,\n",
    "        dict_corr=dict_corr_genes[radius])\n",
    "    # Paper Figure 1G-style (all black, fixed size)\n",
    "    plot_spatial_correlation.plot__stwc_tissuelayers(\n",
    "        df_counts=df_counts, cytokine_responders=conditionalgenes_responders, save_folder=save_folder_tmp,\n",
    "        distance=radius, corr_method=corr_method, dict_corr=dict_corr_genes[radius],\n",
    "        color_dots=False, scale_dot_size=False)\n",
    "    # Highlight diseases\n",
    "    plot_spatial_correlation.plot__stwc_disease(\n",
    "        df_counts=df_counts, cytokine_responders=conditionalgenes_responders,\n",
    "        save_folder=save_folder_tmp, distance=radius, corr_method=corr_method,\n",
    "        dict_corr=dict_corr_genes[radius])\n",
    "    # Highlight patients\n",
    "    plot_spatial_correlation.plot__stwc_patients(\n",
    "        df_counts=df_counts, cytokine_responders=conditionalgenes_responders,\n",
    "        save_folder=save_folder_tmp, distance=radius, corr_method=corr_method,\n",
    "        dict_corr=dict_corr_genes[radius])\n",
    "    # Highlight biopsy type (LESIONAL and NON LESIONAL)\n",
    "    plot_spatial_correlation.plot__stwc_biopsytype(\n",
    "        df_counts=df_counts, cytokine_responders=conditionalgenes_responders,\n",
    "        save_folder=save_folder_tmp, distance=radius, corr_method=corr_method,\n",
    "        dict_corr=dict_corr_genes[radius])"
   ]
  },
  {
   "cell_type": "markdown",
   "id": "d9a37954-cf31-4958-afb8-40827de2bfeb",
   "metadata": {},
   "source": [
    "7. Evaluate Correlation score again radius to determine radius of action"
   ]
  },
  {
   "cell_type": "code",
   "execution_count": null,
   "id": "f01f0380-3033-4c19-850f-099525a2045b",
   "metadata": {},
   "outputs": [],
   "source": [
    "# Read out radius, correlation, and p-value\n",
    "df_radius_vs_correlation = evaluations.build_radius_vs_correlation_df(\n",
    "    dict_corr_genes=dict_corr_genes, conditional_genes=conditional_genes, response_type=response_type,\n",
    "    corr_method=corr_method)\n",
    "df_respcounts_radius = evaluations.compute_responder_counts_by_radius_df(\n",
    "    counts_dict=counts_dict, conditionalgenes_responders=conditionalgenes_responders, radii=radii)"
   ]
  },
  {
   "cell_type": "code",
   "execution_count": null,
   "id": "b64e337b-1b0a-475c-8abd-bed0a156b9db",
   "metadata": {},
   "outputs": [],
   "source": [
    "if len(radii) > 1:\n",
    "    # 6. Evaluate distance via elbow plot\n",
    "    evaluations.plot_evaluate_distance(\n",
    "        df_spearman=df_radius_vs_correlation, cytokines=conditional_genes, min_radius=min(radii),\n",
    "        save_folder=save_folder, corr_method=corr_method)\n",
    "\n",
    "    # 7. Plot Responder counts normed by number of spots in a cluster\n",
    "    evaluations.plot_responder_vs_radius(\n",
    "        df_respcounts_radius=df_respcounts_radius, save_folder=save_folder)"
   ]
  },
  {
   "cell_type": "markdown",
   "id": "52b100e3-3e6c-4106-a176-e35ef71b8aee",
   "metadata": {},
   "source": [
    "8. Save Cluster results to Excel file"
   ]
  },
  {
   "cell_type": "code",
   "execution_count": null,
   "id": "14007212-89b4-446f-8faa-b11fb2de650b",
   "metadata": {},
   "outputs": [],
   "source": [
    "print('========= Save results for {} and response type {} =========\\n'.format(disease, response_type))\n",
    "# Save everything to an .xlsx file\n",
    "writer = pd.ExcelWriter(os.path.join(save_folder, 'Correlation.xlsx'), engine='xlsxwriter')\n",
    "for radius in radii:\n",
    "    counts_dict[radius].to_excel(writer, sheet_name='counts_radius_{}'.format(radius))\n",
    "df_radius_vs_correlation.to_excel(writer, sheet_name='radius_vs_correlation')\n",
    "df_respcounts_radius.to_excel(writer, sheet_name='normalised_responder_counts')\n",
    "writer.close()"
   ]
  }
 ],
 "metadata": {
  "kernelspec": {
   "display_name": "Python 3 (ipykernel)",
   "language": "python",
   "name": "python3"
  },
  "language_info": {
   "codemirror_mode": {
    "name": "ipython",
    "version": 3
   },
   "file_extension": ".py",
   "mimetype": "text/x-python",
   "name": "python",
   "nbconvert_exporter": "python",
   "pygments_lexer": "ipython3",
   "version": "3.8.20"
  }
 },
 "nbformat": 4,
 "nbformat_minor": 5
}
